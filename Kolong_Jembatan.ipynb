{
  "nbformat": 4,
  "nbformat_minor": 0,
  "metadata": {
    "colab": {
      "name": "Kolong Jembatan.ipynb",
      "provenance": [],
      "collapsed_sections": [
        "CtZGbdDZGCN5",
        "2haMunfAGNhl",
        "RbRidZuwGTae",
        "7EEoEhgbGc4w"
      ],
      "toc_visible": true
    },
    "kernelspec": {
      "display_name": "Python 3",
      "name": "python3"
    },
    "language_info": {
      "name": "python"
    }
  },
  "cells": [
    {
      "cell_type": "markdown",
      "metadata": {
        "id": "YQO4_QKeHk3r"
      },
      "source": [
        "# **Analisis Hubungan Siswa Putus Sekolah dengan Jumlah Penduduk Miskin di Provinsi Jawa Barat**"
      ]
    },
    {
      "cell_type": "markdown",
      "metadata": {
        "id": "ClnDNDkfyRTP"
      },
      "source": [
        "Proyek ini bertujuan menganalisa hubungan antara banyaknya siswa putus sekolah dengan jumlah penduduk miskin di Jawa Barat dengan hasil akhir berupa sistem prediksi jumlah penduduk miskin jika berdasarkan banyaknya siswa putus sekolah."
      ]
    },
    {
      "cell_type": "markdown",
      "metadata": {
        "id": "8b5My65pyy_I"
      },
      "source": [
        "# Pre-proses Data"
      ]
    },
    {
      "cell_type": "markdown",
      "metadata": {
        "id": "ONx4EtgPzRiD"
      },
      "source": [
        "Memuat dan memprose data yang diperlukan."
      ]
    },
    {
      "cell_type": "markdown",
      "metadata": {
        "id": "rQ8vY7XG59w2"
      },
      "source": [
        "## Penduduk Miskin"
      ]
    },
    {
      "cell_type": "markdown",
      "metadata": {
        "id": "CtZGbdDZGCN5"
      },
      "source": [
        "### Memuat Data"
      ]
    },
    {
      "cell_type": "code",
      "metadata": {
        "colab": {
          "base_uri": "https://localhost:8080/",
          "height": 313
        },
        "id": "ie3EhFhBgyrl",
        "outputId": "8db9fe43-c5ca-487f-ba88-ba081ea12b03"
      },
      "source": [
        "import pandas as pd\n",
        "\n",
        "miskin_kabkot = pd.read_csv('/content/drive/MyDrive/TSDN/bps-od_16425_jumlah_penduduk_miskin_berdasarkan_kabupatenkota_data.csv')\n",
        "miskin_kabkot.head()"
      ],
      "execution_count": 187,
      "outputs": [
        {
          "output_type": "execute_result",
          "data": {
            "text/html": [
              "<div>\n",
              "<style scoped>\n",
              "    .dataframe tbody tr th:only-of-type {\n",
              "        vertical-align: middle;\n",
              "    }\n",
              "\n",
              "    .dataframe tbody tr th {\n",
              "        vertical-align: top;\n",
              "    }\n",
              "\n",
              "    .dataframe thead th {\n",
              "        text-align: right;\n",
              "    }\n",
              "</style>\n",
              "<table border=\"1\" class=\"dataframe\">\n",
              "  <thead>\n",
              "    <tr style=\"text-align: right;\">\n",
              "      <th></th>\n",
              "      <th>id</th>\n",
              "      <th>kode_provinsi</th>\n",
              "      <th>nama_provinsi</th>\n",
              "      <th>kode_kabupaten_kota</th>\n",
              "      <th>nama_kabupaten_kota</th>\n",
              "      <th>jumlah_penduduk_miskin</th>\n",
              "      <th>satuan</th>\n",
              "      <th>tahun</th>\n",
              "    </tr>\n",
              "  </thead>\n",
              "  <tbody>\n",
              "    <tr>\n",
              "      <th>0</th>\n",
              "      <td>1</td>\n",
              "      <td>32</td>\n",
              "      <td>JAWA BARAT</td>\n",
              "      <td>3201</td>\n",
              "      <td>KABUPATEN BOGOR</td>\n",
              "      <td>451.3</td>\n",
              "      <td>RIBU JIWA</td>\n",
              "      <td>2002</td>\n",
              "    </tr>\n",
              "    <tr>\n",
              "      <th>1</th>\n",
              "      <td>2</td>\n",
              "      <td>32</td>\n",
              "      <td>JAWA BARAT</td>\n",
              "      <td>3202</td>\n",
              "      <td>KABUPATEN SUKABUMI</td>\n",
              "      <td>362.2</td>\n",
              "      <td>RIBU JIWA</td>\n",
              "      <td>2002</td>\n",
              "    </tr>\n",
              "    <tr>\n",
              "      <th>2</th>\n",
              "      <td>3</td>\n",
              "      <td>32</td>\n",
              "      <td>JAWA BARAT</td>\n",
              "      <td>3203</td>\n",
              "      <td>KABUPATEN CIANJUR</td>\n",
              "      <td>368.6</td>\n",
              "      <td>RIBU JIWA</td>\n",
              "      <td>2002</td>\n",
              "    </tr>\n",
              "    <tr>\n",
              "      <th>3</th>\n",
              "      <td>4</td>\n",
              "      <td>32</td>\n",
              "      <td>JAWA BARAT</td>\n",
              "      <td>3204</td>\n",
              "      <td>KABUPATEN BANDUNG</td>\n",
              "      <td>543.3</td>\n",
              "      <td>RIBU JIWA</td>\n",
              "      <td>2002</td>\n",
              "    </tr>\n",
              "    <tr>\n",
              "      <th>4</th>\n",
              "      <td>5</td>\n",
              "      <td>32</td>\n",
              "      <td>JAWA BARAT</td>\n",
              "      <td>3205</td>\n",
              "      <td>KABUPATEN GARUT</td>\n",
              "      <td>323.7</td>\n",
              "      <td>RIBU JIWA</td>\n",
              "      <td>2002</td>\n",
              "    </tr>\n",
              "  </tbody>\n",
              "</table>\n",
              "</div>"
            ],
            "text/plain": [
              "   id  kode_provinsi nama_provinsi  ...  jumlah_penduduk_miskin     satuan  tahun\n",
              "0   1             32    JAWA BARAT  ...                   451.3  RIBU JIWA   2002\n",
              "1   2             32    JAWA BARAT  ...                   362.2  RIBU JIWA   2002\n",
              "2   3             32    JAWA BARAT  ...                   368.6  RIBU JIWA   2002\n",
              "3   4             32    JAWA BARAT  ...                   543.3  RIBU JIWA   2002\n",
              "4   5             32    JAWA BARAT  ...                   323.7  RIBU JIWA   2002\n",
              "\n",
              "[5 rows x 8 columns]"
            ]
          },
          "metadata": {},
          "execution_count": 187
        }
      ]
    },
    {
      "cell_type": "code",
      "metadata": {
        "colab": {
          "base_uri": "https://localhost:8080/"
        },
        "id": "o0CAt9iseHxI",
        "outputId": "607466cd-26d1-4423-910e-8dce0f466af0"
      },
      "source": [
        "miskin_kabkot['tahun'].unique()"
      ],
      "execution_count": 188,
      "outputs": [
        {
          "output_type": "execute_result",
          "data": {
            "text/plain": [
              "array([2002, 2003, 2004, 2005, 2006, 2007, 2008, 2009, 2010, 2011, 2012,\n",
              "       2013, 2014, 2015, 2016, 2017, 2018, 2019, 2020])"
            ]
          },
          "metadata": {},
          "execution_count": 188
        }
      ]
    },
    {
      "cell_type": "code",
      "metadata": {
        "colab": {
          "base_uri": "https://localhost:8080/"
        },
        "id": "76qsKDsSjdv3",
        "outputId": "7cf4ebcb-7028-4ca1-f5b4-d1b326e9f5b7"
      },
      "source": [
        "miskin_kabkot.info()"
      ],
      "execution_count": 189,
      "outputs": [
        {
          "output_type": "stream",
          "name": "stdout",
          "text": [
            "<class 'pandas.core.frame.DataFrame'>\n",
            "RangeIndex: 513 entries, 0 to 512\n",
            "Data columns (total 8 columns):\n",
            " #   Column                  Non-Null Count  Dtype  \n",
            "---  ------                  --------------  -----  \n",
            " 0   id                      513 non-null    int64  \n",
            " 1   kode_provinsi           513 non-null    int64  \n",
            " 2   nama_provinsi           513 non-null    object \n",
            " 3   kode_kabupaten_kota     513 non-null    int64  \n",
            " 4   nama_kabupaten_kota     513 non-null    object \n",
            " 5   jumlah_penduduk_miskin  513 non-null    float64\n",
            " 6   satuan                  513 non-null    object \n",
            " 7   tahun                   513 non-null    int64  \n",
            "dtypes: float64(1), int64(4), object(3)\n",
            "memory usage: 32.2+ KB\n"
          ]
        }
      ]
    },
    {
      "cell_type": "code",
      "metadata": {
        "colab": {
          "base_uri": "https://localhost:8080/"
        },
        "id": "y2YdRlogh589",
        "outputId": "7fa91d45-51e5-403c-bcbb-eb9a44b4630d"
      },
      "source": [
        "miskin_kabkot['tahun'].unique()"
      ],
      "execution_count": 190,
      "outputs": [
        {
          "output_type": "execute_result",
          "data": {
            "text/plain": [
              "array([2002, 2003, 2004, 2005, 2006, 2007, 2008, 2009, 2010, 2011, 2012,\n",
              "       2013, 2014, 2015, 2016, 2017, 2018, 2019, 2020])"
            ]
          },
          "metadata": {},
          "execution_count": 190
        }
      ]
    },
    {
      "cell_type": "markdown",
      "metadata": {
        "id": "2haMunfAGNhl"
      },
      "source": [
        "### Transformasi Data"
      ]
    },
    {
      "cell_type": "code",
      "metadata": {
        "id": "-6sNU0DAz5H8"
      },
      "source": [
        "years = ['2017','2018','2019','2020']"
      ],
      "execution_count": 5,
      "outputs": []
    },
    {
      "cell_type": "code",
      "metadata": {
        "colab": {
          "base_uri": "https://localhost:8080/",
          "height": 0
        },
        "id": "ri0ZGBSzjKpZ",
        "outputId": "15af4b5e-f2fb-41da-aeda-2613e4b8b503"
      },
      "source": [
        "miskin_kabkot_selected = miskin_kabkot.loc[(miskin_kabkot['tahun'] >= 2017)]\n",
        "miskin_kabkot_selected = miskin_kabkot_selected[['nama_kabupaten_kota','jumlah_penduduk_miskin','tahun']]\n",
        "miskin_kabkot_selected.reset_index(drop=True, inplace=True)\n",
        "miskin_kabkot_selected.tail()"
      ],
      "execution_count": 6,
      "outputs": [
        {
          "output_type": "execute_result",
          "data": {
            "text/html": [
              "<div>\n",
              "<style scoped>\n",
              "    .dataframe tbody tr th:only-of-type {\n",
              "        vertical-align: middle;\n",
              "    }\n",
              "\n",
              "    .dataframe tbody tr th {\n",
              "        vertical-align: top;\n",
              "    }\n",
              "\n",
              "    .dataframe thead th {\n",
              "        text-align: right;\n",
              "    }\n",
              "</style>\n",
              "<table border=\"1\" class=\"dataframe\">\n",
              "  <thead>\n",
              "    <tr style=\"text-align: right;\">\n",
              "      <th></th>\n",
              "      <th>nama_kabupaten_kota</th>\n",
              "      <th>jumlah_penduduk_miskin</th>\n",
              "      <th>tahun</th>\n",
              "    </tr>\n",
              "  </thead>\n",
              "  <tbody>\n",
              "    <tr>\n",
              "      <th>103</th>\n",
              "      <td>KOTA BEKASI</td>\n",
              "      <td>134.01</td>\n",
              "      <td>2020</td>\n",
              "    </tr>\n",
              "    <tr>\n",
              "      <th>104</th>\n",
              "      <td>KOTA DEPOK</td>\n",
              "      <td>60.43</td>\n",
              "      <td>2020</td>\n",
              "    </tr>\n",
              "    <tr>\n",
              "      <th>105</th>\n",
              "      <td>KOTA CIMAHI</td>\n",
              "      <td>31.64</td>\n",
              "      <td>2020</td>\n",
              "    </tr>\n",
              "    <tr>\n",
              "      <th>106</th>\n",
              "      <td>KOTA TASIKMALAYA</td>\n",
              "      <td>86.13</td>\n",
              "      <td>2020</td>\n",
              "    </tr>\n",
              "    <tr>\n",
              "      <th>107</th>\n",
              "      <td>KOTA BANJAR</td>\n",
              "      <td>11.16</td>\n",
              "      <td>2020</td>\n",
              "    </tr>\n",
              "  </tbody>\n",
              "</table>\n",
              "</div>"
            ],
            "text/plain": [
              "    nama_kabupaten_kota  jumlah_penduduk_miskin  tahun\n",
              "103         KOTA BEKASI                  134.01   2020\n",
              "104          KOTA DEPOK                   60.43   2020\n",
              "105         KOTA CIMAHI                   31.64   2020\n",
              "106    KOTA TASIKMALAYA                   86.13   2020\n",
              "107         KOTA BANJAR                   11.16   2020"
            ]
          },
          "metadata": {},
          "execution_count": 6
        }
      ]
    },
    {
      "cell_type": "code",
      "metadata": {
        "colab": {
          "base_uri": "https://localhost:8080/"
        },
        "id": "60nh18V_j1AP",
        "outputId": "1be8b4e6-6042-446a-c153-f2dcbe981775"
      },
      "source": [
        "miskin_kabkot_selected.info()"
      ],
      "execution_count": 7,
      "outputs": [
        {
          "output_type": "stream",
          "name": "stdout",
          "text": [
            "<class 'pandas.core.frame.DataFrame'>\n",
            "RangeIndex: 108 entries, 0 to 107\n",
            "Data columns (total 3 columns):\n",
            " #   Column                  Non-Null Count  Dtype  \n",
            "---  ------                  --------------  -----  \n",
            " 0   nama_kabupaten_kota     108 non-null    object \n",
            " 1   jumlah_penduduk_miskin  108 non-null    float64\n",
            " 2   tahun                   108 non-null    int64  \n",
            "dtypes: float64(1), int64(1), object(1)\n",
            "memory usage: 2.7+ KB\n"
          ]
        }
      ]
    },
    {
      "cell_type": "code",
      "metadata": {
        "colab": {
          "base_uri": "https://localhost:8080/",
          "height": 0
        },
        "id": "nZbgpzw1z64J",
        "outputId": "929e2353-5743-4c42-dee1-cbc7048d5d01"
      },
      "source": [
        "miskin_peryear = []\n",
        "for i, year in enumerate(years):\n",
        "  year_data = miskin_kabkot_selected.loc[(miskin_kabkot_selected['tahun'] == int(year))]\n",
        "  year_data.drop(['tahun'],axis=1)\n",
        "  mis = year_data.groupby('nama_kabupaten_kota')['jumlah_penduduk_miskin'].sum()\n",
        "  miskin_peryear.append(pd.DataFrame({'nama_kabupaten_kota':mis.index, 'jumlah_penduduk_miskin':mis.values*1000, 'tahun':year}))\n",
        "\n",
        "miskin_peryear[0].head()"
      ],
      "execution_count": 8,
      "outputs": [
        {
          "output_type": "execute_result",
          "data": {
            "text/html": [
              "<div>\n",
              "<style scoped>\n",
              "    .dataframe tbody tr th:only-of-type {\n",
              "        vertical-align: middle;\n",
              "    }\n",
              "\n",
              "    .dataframe tbody tr th {\n",
              "        vertical-align: top;\n",
              "    }\n",
              "\n",
              "    .dataframe thead th {\n",
              "        text-align: right;\n",
              "    }\n",
              "</style>\n",
              "<table border=\"1\" class=\"dataframe\">\n",
              "  <thead>\n",
              "    <tr style=\"text-align: right;\">\n",
              "      <th></th>\n",
              "      <th>nama_kabupaten_kota</th>\n",
              "      <th>jumlah_penduduk_miskin</th>\n",
              "      <th>tahun</th>\n",
              "    </tr>\n",
              "  </thead>\n",
              "  <tbody>\n",
              "    <tr>\n",
              "      <th>0</th>\n",
              "      <td>KABUPATEN BANDUNG</td>\n",
              "      <td>268000.0</td>\n",
              "      <td>2017</td>\n",
              "    </tr>\n",
              "    <tr>\n",
              "      <th>1</th>\n",
              "      <td>KABUPATEN BANDUNG BARAT</td>\n",
              "      <td>190900.0</td>\n",
              "      <td>2017</td>\n",
              "    </tr>\n",
              "    <tr>\n",
              "      <th>2</th>\n",
              "      <td>KABUPATEN BEKASI</td>\n",
              "      <td>164000.0</td>\n",
              "      <td>2017</td>\n",
              "    </tr>\n",
              "    <tr>\n",
              "      <th>3</th>\n",
              "      <td>KABUPATEN BOGOR</td>\n",
              "      <td>487300.0</td>\n",
              "      <td>2017</td>\n",
              "    </tr>\n",
              "    <tr>\n",
              "      <th>4</th>\n",
              "      <td>KABUPATEN CIAMIS</td>\n",
              "      <td>96800.0</td>\n",
              "      <td>2017</td>\n",
              "    </tr>\n",
              "  </tbody>\n",
              "</table>\n",
              "</div>"
            ],
            "text/plain": [
              "       nama_kabupaten_kota  jumlah_penduduk_miskin tahun\n",
              "0        KABUPATEN BANDUNG                268000.0  2017\n",
              "1  KABUPATEN BANDUNG BARAT                190900.0  2017\n",
              "2         KABUPATEN BEKASI                164000.0  2017\n",
              "3          KABUPATEN BOGOR                487300.0  2017\n",
              "4         KABUPATEN CIAMIS                 96800.0  2017"
            ]
          },
          "metadata": {},
          "execution_count": 8
        }
      ]
    },
    {
      "cell_type": "code",
      "metadata": {
        "colab": {
          "base_uri": "https://localhost:8080/"
        },
        "id": "bAQdRsRJ2Y9h",
        "outputId": "6b1733c6-5831-4756-c2e3-ec1618d9b0f0"
      },
      "source": [
        "miskin_peryear[0].info()"
      ],
      "execution_count": 9,
      "outputs": [
        {
          "output_type": "stream",
          "name": "stdout",
          "text": [
            "<class 'pandas.core.frame.DataFrame'>\n",
            "RangeIndex: 27 entries, 0 to 26\n",
            "Data columns (total 3 columns):\n",
            " #   Column                  Non-Null Count  Dtype  \n",
            "---  ------                  --------------  -----  \n",
            " 0   nama_kabupaten_kota     27 non-null     object \n",
            " 1   jumlah_penduduk_miskin  27 non-null     float64\n",
            " 2   tahun                   27 non-null     object \n",
            "dtypes: float64(1), object(2)\n",
            "memory usage: 776.0+ bytes\n"
          ]
        }
      ]
    },
    {
      "cell_type": "markdown",
      "metadata": {
        "id": "4t38nPyX6HfM"
      },
      "source": [
        "## Siswa Putus Sekolah"
      ]
    },
    {
      "cell_type": "markdown",
      "metadata": {
        "id": "RbRidZuwGTae"
      },
      "source": [
        "### Memuat dan Membersihkan Data"
      ]
    },
    {
      "cell_type": "code",
      "metadata": {
        "colab": {
          "base_uri": "https://localhost:8080/"
        },
        "id": "03kKfHyGPTpy",
        "outputId": "b1dad55a-37c1-4675-802e-ce30368544ba"
      },
      "source": [
        "import os\n",
        "\n",
        "putus_path = '/content/drive/MyDrive/TSDN/Turnamen Sains Data Nasional'\n",
        "putus_category = os.listdir(putus_path)\n",
        "\n",
        "file_list = []\n",
        "for folder in putus_category:\n",
        "  if folder != 'Dataset':\n",
        "    for file in os.listdir(os.path.join(putus_path, folder)):\n",
        "      if file.endswith(\".xlsx\"):\n",
        "          file_list.append(os.path.join(folder, file))\n",
        "\n",
        "print(len(file_list))"
      ],
      "execution_count": 10,
      "outputs": [
        {
          "output_type": "stream",
          "name": "stdout",
          "text": [
            "16\n"
          ]
        }
      ]
    },
    {
      "cell_type": "code",
      "metadata": {
        "colab": {
          "base_uri": "https://localhost:8080/"
        },
        "id": "-PWehyWTXcbq",
        "outputId": "17ca39fb-2f6d-4872-ed75-fd8513addaf4"
      },
      "source": [
        "print(file_list)"
      ],
      "execution_count": 11,
      "outputs": [
        {
          "output_type": "stream",
          "name": "stdout",
          "text": [
            "['SMK/stat-smk-table-2-wil-2020.xlsx', 'SMK/stat-smk-table-2-wil-2017.xlsx', 'SMK/stat-smk-table-2-wil-2018.xlsx', 'SMK/stat-smk-table-2-wil-2019.xlsx', 'SD/stat-sd-table-2-wil-020000_2017.xlsx', 'SD/stat-sd-table-2-wil-020000_2018.xlsx', 'SD/stat-sd-table-2-wil-020000_2019.xlsx', 'SD/stat-sd-table-2-wil-020000_2020.xlsx', 'SMA/stat-sma-table-2-wil-020000_2017.xlsx', 'SMA/stat-sma-table-2-wil-020000_2018.xlsx', 'SMA/stat-sma-table-2-wil-020000_2019.xlsx', 'SMA/stat-sma-table-2-wil-020000_2020.xlsx', 'SMP/stat-smp-table-2-wil-020000_2017.xlsx', 'SMP/stat-smp-table-2-wil-020000_2018.xlsx', 'SMP/stat-smp-table-2-wil-020000_2019.xlsx', 'SMP/stat-smp-table-2-wil-020000_2020.xlsx']\n"
          ]
        }
      ]
    },
    {
      "cell_type": "code",
      "metadata": {
        "id": "CKSap9jJkX2x"
      },
      "source": [
        "data_peryear = []\n",
        "for year in years:\n",
        "  df_temp = pd.DataFrame()\n",
        "  for file in file_list:\n",
        "    if year in file:\n",
        "      df = pd.read_excel(os.path.join(putus_path,file))\n",
        "      if 'SMA' in file:\n",
        "        df = df.iloc[1:28,[0,4]]\n",
        "      else:\n",
        "        df = df.iloc[0:27,[1,5]]\n",
        "      df.iloc[:,0] = df.iloc[:,0].str.replace(r'\\s*\\d+\\s*','')\n",
        "      df.iloc[:,0] = df.iloc[:,0].str.replace('Kab.','Kabupaten')\n",
        "      df.columns = [''] * len(df.columns)\n",
        "      df_temp = df_temp.append(df, ignore_index=True)\n",
        "  data_peryear.append(df_temp)"
      ],
      "execution_count": 12,
      "outputs": []
    },
    {
      "cell_type": "code",
      "metadata": {
        "colab": {
          "base_uri": "https://localhost:8080/",
          "height": 0
        },
        "id": "B0TXg9vAtKGa",
        "outputId": "cadcb27e-c68a-4f23-d679-8b29591d4c02"
      },
      "source": [
        "data_peryear[2].head()"
      ],
      "execution_count": 13,
      "outputs": [
        {
          "output_type": "execute_result",
          "data": {
            "text/html": [
              "<div>\n",
              "<style scoped>\n",
              "    .dataframe tbody tr th:only-of-type {\n",
              "        vertical-align: middle;\n",
              "    }\n",
              "\n",
              "    .dataframe tbody tr th {\n",
              "        vertical-align: top;\n",
              "    }\n",
              "\n",
              "    .dataframe thead th {\n",
              "        text-align: right;\n",
              "    }\n",
              "</style>\n",
              "<table border=\"1\" class=\"dataframe\">\n",
              "  <thead>\n",
              "    <tr style=\"text-align: right;\">\n",
              "      <th></th>\n",
              "      <th></th>\n",
              "      <th></th>\n",
              "    </tr>\n",
              "  </thead>\n",
              "  <tbody>\n",
              "    <tr>\n",
              "      <th>0</th>\n",
              "      <td>Kabupaten Bogor</td>\n",
              "      <td>3216.0</td>\n",
              "    </tr>\n",
              "    <tr>\n",
              "      <th>1</th>\n",
              "      <td>Kabupaten Sukabumi</td>\n",
              "      <td>1324.0</td>\n",
              "    </tr>\n",
              "    <tr>\n",
              "      <th>2</th>\n",
              "      <td>Kabupaten Cianjur</td>\n",
              "      <td>2358.0</td>\n",
              "    </tr>\n",
              "    <tr>\n",
              "      <th>3</th>\n",
              "      <td>Kabupaten Bandung</td>\n",
              "      <td>1096.0</td>\n",
              "    </tr>\n",
              "    <tr>\n",
              "      <th>4</th>\n",
              "      <td>Kabupaten Sumedang</td>\n",
              "      <td>665.0</td>\n",
              "    </tr>\n",
              "  </tbody>\n",
              "</table>\n",
              "</div>"
            ],
            "text/plain": [
              "                             \n",
              "0     Kabupaten Bogor  3216.0\n",
              "1  Kabupaten Sukabumi  1324.0\n",
              "2   Kabupaten Cianjur  2358.0\n",
              "3   Kabupaten Bandung  1096.0\n",
              "4  Kabupaten Sumedang   665.0"
            ]
          },
          "metadata": {},
          "execution_count": 13
        }
      ]
    },
    {
      "cell_type": "markdown",
      "metadata": {
        "id": "7EEoEhgbGc4w"
      },
      "source": [
        "### Transformasi Data"
      ]
    },
    {
      "cell_type": "code",
      "metadata": {
        "colab": {
          "base_uri": "https://localhost:8080/",
          "height": 0
        },
        "id": "RXP6EIoevNwx",
        "outputId": "17985947-54ff-4139-9fe0-fcdfc7eb05c2"
      },
      "source": [
        "for i, data in enumerate(data_peryear):\n",
        "  data.columns =['nama_kabupaten_kota', 'jumlah_siswa']\n",
        "  sis = data.groupby('nama_kabupaten_kota')['jumlah_siswa'].sum()\n",
        "  data_peryear[i] = pd.DataFrame({'nama_kabupaten_kota':sis.index, 'jumlah_siswa':sis.values, 'tahun':2017+i})\n",
        "\n",
        "data_peryear[0].head()"
      ],
      "execution_count": 14,
      "outputs": [
        {
          "output_type": "execute_result",
          "data": {
            "text/html": [
              "<div>\n",
              "<style scoped>\n",
              "    .dataframe tbody tr th:only-of-type {\n",
              "        vertical-align: middle;\n",
              "    }\n",
              "\n",
              "    .dataframe tbody tr th {\n",
              "        vertical-align: top;\n",
              "    }\n",
              "\n",
              "    .dataframe thead th {\n",
              "        text-align: right;\n",
              "    }\n",
              "</style>\n",
              "<table border=\"1\" class=\"dataframe\">\n",
              "  <thead>\n",
              "    <tr style=\"text-align: right;\">\n",
              "      <th></th>\n",
              "      <th>nama_kabupaten_kota</th>\n",
              "      <th>jumlah_siswa</th>\n",
              "      <th>tahun</th>\n",
              "    </tr>\n",
              "  </thead>\n",
              "  <tbody>\n",
              "    <tr>\n",
              "      <th>0</th>\n",
              "      <td>Kabupaten Bandung</td>\n",
              "      <td>2080.0</td>\n",
              "      <td>2017</td>\n",
              "    </tr>\n",
              "    <tr>\n",
              "      <th>1</th>\n",
              "      <td>Kabupaten Bandung Barat</td>\n",
              "      <td>1020.0</td>\n",
              "      <td>2017</td>\n",
              "    </tr>\n",
              "    <tr>\n",
              "      <th>2</th>\n",
              "      <td>Kabupaten Bekasi</td>\n",
              "      <td>1730.0</td>\n",
              "      <td>2017</td>\n",
              "    </tr>\n",
              "    <tr>\n",
              "      <th>3</th>\n",
              "      <td>Kabupaten Bogor</td>\n",
              "      <td>3612.0</td>\n",
              "      <td>2017</td>\n",
              "    </tr>\n",
              "    <tr>\n",
              "      <th>4</th>\n",
              "      <td>Kabupaten Ciamis</td>\n",
              "      <td>749.0</td>\n",
              "      <td>2017</td>\n",
              "    </tr>\n",
              "  </tbody>\n",
              "</table>\n",
              "</div>"
            ],
            "text/plain": [
              "       nama_kabupaten_kota  jumlah_siswa  tahun\n",
              "0        Kabupaten Bandung        2080.0   2017\n",
              "1  Kabupaten Bandung Barat        1020.0   2017\n",
              "2         Kabupaten Bekasi        1730.0   2017\n",
              "3          Kabupaten Bogor        3612.0   2017\n",
              "4         Kabupaten Ciamis         749.0   2017"
            ]
          },
          "metadata": {},
          "execution_count": 14
        }
      ]
    },
    {
      "cell_type": "code",
      "metadata": {
        "colab": {
          "base_uri": "https://localhost:8080/"
        },
        "id": "Qvi7DFSDw-4D",
        "outputId": "b49e40c4-7c98-407e-9115-54c03c40b2b7"
      },
      "source": [
        "data_peryear[0].info()"
      ],
      "execution_count": 15,
      "outputs": [
        {
          "output_type": "stream",
          "name": "stdout",
          "text": [
            "<class 'pandas.core.frame.DataFrame'>\n",
            "RangeIndex: 27 entries, 0 to 26\n",
            "Data columns (total 3 columns):\n",
            " #   Column               Non-Null Count  Dtype  \n",
            "---  ------               --------------  -----  \n",
            " 0   nama_kabupaten_kota  27 non-null     object \n",
            " 1   jumlah_siswa         27 non-null     float64\n",
            " 2   tahun                27 non-null     int64  \n",
            "dtypes: float64(1), int64(1), object(1)\n",
            "memory usage: 776.0+ bytes\n"
          ]
        }
      ]
    },
    {
      "cell_type": "code",
      "metadata": {
        "id": "plcmF9l89mzR"
      },
      "source": [
        "for ye, d in enumerate(data_peryear):\n",
        "  d.to_csv('putus_sekolah_'+str(ye+2017)+'.csv')"
      ],
      "execution_count": 16,
      "outputs": []
    },
    {
      "cell_type": "markdown",
      "metadata": {
        "id": "opSjTf3vDY1k"
      },
      "source": [
        "# Eksploratory Data Analysis"
      ]
    },
    {
      "cell_type": "code",
      "metadata": {
        "id": "3sk2sayNAKxH"
      },
      "source": [
        "import seaborn as sns"
      ],
      "execution_count": 17,
      "outputs": []
    },
    {
      "cell_type": "markdown",
      "metadata": {
        "id": "uKjaSNXLGuvh"
      },
      "source": [
        "## Perbandingan Jumlah Penduduk Miskin"
      ]
    },
    {
      "cell_type": "code",
      "metadata": {
        "colab": {
          "base_uri": "https://localhost:8080/",
          "height": 588
        },
        "id": "UEW4idSp7F3J",
        "outputId": "79eae685-10df-4b03-9c49-a6b5d70edde8"
      },
      "source": [
        "data_miskin = {'Kabupaten / Kota': miskin_peryear[0]['nama_kabupaten_kota'],\n",
        "        '2017':miskin_peryear[0]['jumlah_penduduk_miskin'],\n",
        "        '2018':miskin_peryear[1]['jumlah_penduduk_miskin'],\n",
        "        '2019':miskin_peryear[2]['jumlah_penduduk_miskin'],\n",
        "        '2020':miskin_peryear[3]['jumlah_penduduk_miskin'],}\n",
        "\n",
        "data_df = pd.DataFrame.from_dict(data_miskin)\n",
        "vis_df = pd.melt(data_df, id_vars=\"Kabupaten / Kota\", var_name=\"Legenda\", value_name=\"Jumlah Orang (Jiwa)\")\n",
        "\n",
        "sns.factorplot(x='Jumlah Orang (Jiwa)', y='Kabupaten / Kota', hue='Legenda', data=vis_df, kind='bar', height=7, aspect=1, legend_out=True)\n"
      ],
      "execution_count": 18,
      "outputs": [
        {
          "output_type": "stream",
          "name": "stderr",
          "text": [
            "/usr/local/lib/python3.7/dist-packages/seaborn/categorical.py:3717: UserWarning: The `factorplot` function has been renamed to `catplot`. The original name will be removed in a future release. Please update your code. Note that the default `kind` in `factorplot` (`'point'`) has changed `'strip'` in `catplot`.\n",
            "  warnings.warn(msg)\n"
          ]
        },
        {
          "output_type": "execute_result",
          "data": {
            "text/plain": [
              "<seaborn.axisgrid.FacetGrid at 0x7fad83de4910>"
            ]
          },
          "metadata": {},
          "execution_count": 18
        },
        {
          "output_type": "display_data",
          "data": {
            "image/png": "[encoded data removed]",
            "text/plain": [
              "<Figure size 565.375x504 with 1 Axes>"
            ]
          },
          "metadata": {
            "needs_background": "light"
          }
        }
      ]
    },
    {
      "cell_type": "markdown",
      "metadata": {
        "id": "lV6jmYK9IJVX"
      },
      "source": [
        "## Perbandingan Jumlah Siswa Putus Sekolah"
      ]
    },
    {
      "cell_type": "code",
      "metadata": {
        "colab": {
          "base_uri": "https://localhost:8080/",
          "height": 588
        },
        "id": "xIZa_zkz844Z",
        "outputId": "73c5f26c-c095-49de-839d-e0979846d995"
      },
      "source": [
        "data_putus = {'Kabupaten / Kota': data_peryear[0]['nama_kabupaten_kota'],\n",
        "        '2017':data_peryear[0]['jumlah_siswa'],\n",
        "        '2018':data_peryear[1]['jumlah_siswa'],\n",
        "        '2019':data_peryear[2]['jumlah_siswa'],\n",
        "        '2020':data_peryear[3]['jumlah_siswa'],}\n",
        "\n",
        "putus_df = pd.DataFrame.from_dict(data_putus)\n",
        "putusvis_df = pd.melt(putus_df, id_vars=\"Kabupaten / Kota\", var_name=\"Legenda\", value_name=\"Jumlah Orang (Jiwa)\")\n",
        "\n",
        "sns.factorplot(x='Jumlah Orang (Jiwa)', y='Kabupaten / Kota', hue='Legenda', data=putusvis_df, kind='bar', height=7, aspect=1, legend_out=True)"
      ],
      "execution_count": 19,
      "outputs": [
        {
          "output_type": "stream",
          "name": "stderr",
          "text": [
            "/usr/local/lib/python3.7/dist-packages/seaborn/categorical.py:3717: UserWarning: The `factorplot` function has been renamed to `catplot`. The original name will be removed in a future release. Please update your code. Note that the default `kind` in `factorplot` (`'point'`) has changed `'strip'` in `catplot`.\n",
            "  warnings.warn(msg)\n"
          ]
        },
        {
          "output_type": "execute_result",
          "data": {
            "text/plain": [
              "<seaborn.axisgrid.FacetGrid at 0x7fad7b22a350>"
            ]
          },
          "metadata": {},
          "execution_count": 19
        },
        {
          "output_type": "display_data",
          "data": {
            "image/png": "[encoded data removed]",
            "text/plain": [
              "<Figure size 565.375x504 with 1 Axes>"
            ]
          },
          "metadata": {
            "needs_background": "light"
          }
        }
      ]
    },
    {
      "cell_type": "markdown",
      "metadata": {
        "id": "z_LjY3SUeIAU"
      },
      "source": [
        "## Korelasi Antara Jumlah Penduduk Miskin dan Siwa Putus Sekolah"
      ]
    },
    {
      "cell_type": "markdown",
      "metadata": {
        "id": "yWvW6crC0Onp"
      },
      "source": [
        "### Korelasi per tahun"
      ]
    },
    {
      "cell_type": "code",
      "metadata": {
        "colab": {
          "base_uri": "https://localhost:8080/",
          "height": 297
        },
        "id": "3YyZP_1gAbyF",
        "outputId": "f9dc5433-867d-4d23-e7fc-5ad7b7d20e7c"
      },
      "source": [
        "import matplotlib.pyplot as plt\n",
        "\n",
        "for col in data_df.columns:\n",
        "  if col != 'Kabupaten / Kota':\n",
        "    plt.scatter(data_df[col], putus_df[col], label=col)\n",
        "plt.legend(loc='best', fontsize=16)\n",
        "plt.xlabel('Penduduk Miskin')\n",
        "plt.ylabel('Siswa Putus Sekolah')"
      ],
      "execution_count": 20,
      "outputs": [
        {
          "output_type": "execute_result",
          "data": {
            "text/plain": [
              "Text(0, 0.5, 'Siswa Putus Sekolah')"
            ]
          },
          "metadata": {},
          "execution_count": 20
        },
        {
          "output_type": "display_data",
          "data": {
            "image/png": "[encoded data removed]",
            "text/plain": [
              "<Figure size 432x288 with 1 Axes>"
            ]
          },
          "metadata": {
            "needs_background": "light"
          }
        }
      ]
    },
    {
      "cell_type": "code",
      "metadata": {
        "id": "-OjCeHjTFV1e"
      },
      "source": [
        "from scipy.stats import pearsonr\n",
        "\n",
        "corr_peryear = []\n",
        "\n",
        "for col in data_df.columns:\n",
        "  if col != 'Kabupaten / Kota':\n",
        "    corr, _ = pearsonr(data_df[col],putus_df[col])\n",
        "    corr_peryear.append(corr)"
      ],
      "execution_count": 21,
      "outputs": []
    },
    {
      "cell_type": "code",
      "metadata": {
        "colab": {
          "base_uri": "https://localhost:8080/"
        },
        "id": "J7HVzu5wJODd",
        "outputId": "042a3957-bd9f-475d-8c9d-501fae83e70e"
      },
      "source": [
        "print(corr_peryear)"
      ],
      "execution_count": 22,
      "outputs": [
        {
          "output_type": "stream",
          "name": "stdout",
          "text": [
            "[0.8538864801521794, 0.8900669499732766, 0.9398784771865196, 0.8855359239955529]\n"
          ]
        }
      ]
    },
    {
      "cell_type": "markdown",
      "metadata": {
        "id": "bqIK5PEzzoBZ"
      },
      "source": [
        "korelasi 2 variabel terbukti positif jika diambil dari data per tahun."
      ]
    },
    {
      "cell_type": "markdown",
      "metadata": {
        "id": "O77BVJOC0S1e"
      },
      "source": [
        "### Korelasi per Kabupaten / Kota"
      ]
    },
    {
      "cell_type": "code",
      "metadata": {
        "colab": {
          "base_uri": "https://localhost:8080/",
          "height": 265
        },
        "id": "J5n20shNKVuJ",
        "outputId": "6c573158-77e8-4aa6-d79b-0e421b208d63"
      },
      "source": [
        "corr_perkabkot = []\n",
        "\n",
        "for index, row in data_df.iterrows():\n",
        "  plt.scatter(data_df.iloc[index,1:].values, putus_df.iloc[index,1:].values)\n",
        "  corr, _ = pearsonr(data_df.iloc[index,1:].values, putus_df.iloc[index,1:].values)\n",
        "  corr_perkabkot.append(corr)"
      ],
      "execution_count": 23,
      "outputs": [
        {
          "output_type": "display_data",
          "data": {
            "image/png": "[encoded data removed]",
            "text/plain": [
              "<Figure size 432x288 with 1 Axes>"
            ]
          },
          "metadata": {
            "needs_background": "light"
          }
        }
      ]
    },
    {
      "cell_type": "code",
      "metadata": {
        "colab": {
          "base_uri": "https://localhost:8080/"
        },
        "id": "1e2tsRKcKyTz",
        "outputId": "e911e1f7-6c01-4aed-a397-af6d6fdee14b"
      },
      "source": [
        "print(corr_perkabkot)"
      ],
      "execution_count": 24,
      "outputs": [
        {
          "output_type": "stream",
          "name": "stdout",
          "text": [
            "[-0.745144702446928, -0.6862835987457271, -0.8553547971705079, -0.7482446385527696, -0.04461484645104596, -0.6566705348915026, -0.3762257270607191, -0.7071287969812792, -0.92696379402726, -0.6745900479171749, -0.7958251496041475, -0.6895537262353707, -0.39211743543092414, -0.584163762755269, -0.724059234650977, -0.49800105416051016, -0.5269190866180208, -0.6382512827396745, -0.342389431993724, 0.3686900758886358, -0.506161800863846, -0.7051373859646337, -0.5797576556970803, -0.7244689481982314, -0.7062838547674946, -0.2498144800092544, 0.35627480243070214]\n"
          ]
        }
      ]
    },
    {
      "cell_type": "markdown",
      "metadata": {
        "id": "UyOcnLshz2nM"
      },
      "source": [
        "namun korelasi menjadi bias dan kebanyakan negatif jika melihat per kabupaten / kota karena jumlah data yang sedikit (hanya ada data 4 tahun kebelakang)."
      ]
    },
    {
      "cell_type": "markdown",
      "metadata": {
        "id": "S7WrVmgULA_3"
      },
      "source": [
        "# Menyiapkan Data untuk Regresi"
      ]
    },
    {
      "cell_type": "markdown",
      "metadata": {
        "id": "Oyir2zKjxNX9"
      },
      "source": [
        "## Menyatukan Data"
      ]
    },
    {
      "cell_type": "code",
      "metadata": {
        "id": "JCWsRhhCfgtY"
      },
      "source": [
        "mis = []\n",
        "put = []\n",
        "for col in data_df.columns:\n",
        "  if col != 'Kabupaten / Kota':\n",
        "    mis.extend(data_df[col])\n",
        "    put.extend(putus_df[col])\n",
        "\n",
        "whole_data = {'miskin':mis, 'putus':put}\n",
        "whole_data_df = pd.DataFrame.from_dict(whole_data)"
      ],
      "execution_count": 71,
      "outputs": []
    },
    {
      "cell_type": "code",
      "metadata": {
        "colab": {
          "base_uri": "https://localhost:8080/"
        },
        "id": "gkNmGjlmgIiW",
        "outputId": "aa187a07-eb2d-44b3-b1e8-0fc0db523d74"
      },
      "source": [
        "whole_data_df.info()"
      ],
      "execution_count": 72,
      "outputs": [
        {
          "output_type": "stream",
          "name": "stdout",
          "text": [
            "<class 'pandas.core.frame.DataFrame'>\n",
            "RangeIndex: 108 entries, 0 to 107\n",
            "Data columns (total 2 columns):\n",
            " #   Column  Non-Null Count  Dtype  \n",
            "---  ------  --------------  -----  \n",
            " 0   miskin  108 non-null    float64\n",
            " 1   putus   108 non-null    float64\n",
            "dtypes: float64(2)\n",
            "memory usage: 1.8 KB\n"
          ]
        }
      ]
    },
    {
      "cell_type": "markdown",
      "metadata": {
        "id": "58NRq_iHxDkj"
      },
      "source": [
        "## Menghapus Outlier"
      ]
    },
    {
      "cell_type": "code",
      "metadata": {
        "colab": {
          "base_uri": "https://localhost:8080/"
        },
        "id": "TZdiu5lHeUsn",
        "outputId": "3bb31c97-7a7e-4b73-d655-b0aeeeb157b5"
      },
      "source": [
        "import numpy as np\n",
        "from scipy import stats\n",
        "\n",
        "z_scores = stats.zscore(whole_data_df)\n",
        "abs_z_scores = np.abs(z_scores)\n",
        "filtered_entries = (abs_z_scores < 3).all(axis=1)\n",
        "new_df = whole_data_df[filtered_entries]\n",
        "new_df.info()"
      ],
      "execution_count": 73,
      "outputs": [
        {
          "output_type": "stream",
          "name": "stdout",
          "text": [
            "<class 'pandas.core.frame.DataFrame'>\n",
            "Int64Index: 105 entries, 0 to 107\n",
            "Data columns (total 2 columns):\n",
            " #   Column  Non-Null Count  Dtype  \n",
            "---  ------  --------------  -----  \n",
            " 0   miskin  105 non-null    float64\n",
            " 1   putus   105 non-null    float64\n",
            "dtypes: float64(2)\n",
            "memory usage: 2.5 KB\n"
          ]
        }
      ]
    },
    {
      "cell_type": "code",
      "metadata": {
        "colab": {
          "base_uri": "https://localhost:8080/"
        },
        "id": "E927egtPK-7_",
        "outputId": "05d19ecc-1b85-4c90-8d6c-015ed82c7fcc"
      },
      "source": [
        "X = np.array([new_df['putus']]).reshape((105,1))\n",
        "y = np.array([new_df['miskin']]).reshape((105,1))\n",
        "X.shape"
      ],
      "execution_count": 87,
      "outputs": [
        {
          "output_type": "execute_result",
          "data": {
            "text/plain": [
              "(105, 1)"
            ]
          },
          "metadata": {},
          "execution_count": 87
        }
      ]
    },
    {
      "cell_type": "code",
      "metadata": {
        "colab": {
          "base_uri": "https://localhost:8080/"
        },
        "id": "dIa4XmM2NZYX",
        "outputId": "d11d0e0a-0ca1-4f5b-df99-219778f3fc4c"
      },
      "source": [
        "y.shape"
      ],
      "execution_count": 88,
      "outputs": [
        {
          "output_type": "execute_result",
          "data": {
            "text/plain": [
              "(105, 1)"
            ]
          },
          "metadata": {},
          "execution_count": 88
        }
      ]
    },
    {
      "cell_type": "markdown",
      "metadata": {
        "id": "JteMgr0GRUpu"
      },
      "source": [
        "# Membagi data untuk Train dan Test"
      ]
    },
    {
      "cell_type": "markdown",
      "metadata": {
        "id": "SdhW7AvF0v2s"
      },
      "source": [
        "Meski nantinya model akan menggunakan Cross Validation, namun pembagian data ini digunakan untuk testing akhir performa tiap model."
      ]
    },
    {
      "cell_type": "code",
      "metadata": {
        "id": "4ITl5NDVRV3j"
      },
      "source": [
        "from sklearn.model_selection import train_test_split\n",
        "\n",
        "X_train, X_test, y_train, y_test = train_test_split(X, y, test_size=0.2)"
      ],
      "execution_count": 89,
      "outputs": []
    },
    {
      "cell_type": "code",
      "metadata": {
        "colab": {
          "base_uri": "https://localhost:8080/"
        },
        "id": "9queGzZPRuBo",
        "outputId": "dec6bf33-a0a4-4c4c-cca8-f561fe007488"
      },
      "source": [
        "X_train.shape"
      ],
      "execution_count": 90,
      "outputs": [
        {
          "output_type": "execute_result",
          "data": {
            "text/plain": [
              "(84, 1)"
            ]
          },
          "metadata": {},
          "execution_count": 90
        }
      ]
    },
    {
      "cell_type": "code",
      "metadata": {
        "colab": {
          "base_uri": "https://localhost:8080/"
        },
        "id": "GWIvsT3sRw5I",
        "outputId": "47a411f0-eebb-410a-b688-a05d168e0a5e"
      },
      "source": [
        "X_test.shape"
      ],
      "execution_count": 91,
      "outputs": [
        {
          "output_type": "execute_result",
          "data": {
            "text/plain": [
              "(21, 1)"
            ]
          },
          "metadata": {},
          "execution_count": 91
        }
      ]
    },
    {
      "cell_type": "markdown",
      "metadata": {
        "id": "E2GYdX22yB6Y"
      },
      "source": [
        "# Melatih dan Mengevaluasi Model"
      ]
    },
    {
      "cell_type": "markdown",
      "metadata": {
        "id": "ufJf6TjXxd0r"
      },
      "source": [
        "Karena melakukan prediksi nilai variabel dengan referensi nilai variabel lain (hubungan 2 variabel) maka model yang digunakan adalah **model linear**."
      ]
    },
    {
      "cell_type": "markdown",
      "metadata": {
        "id": "KZ1eC8hCK-NO"
      },
      "source": [
        "## Linear Regression"
      ]
    },
    {
      "cell_type": "code",
      "metadata": {
        "colab": {
          "base_uri": "https://localhost:8080/"
        },
        "id": "sm9WSiL3SgGJ",
        "outputId": "e722153e-5e6a-4a1a-fd02-41cbe8b04057"
      },
      "source": [
        "from sklearn.linear_model import LinearRegression\n",
        "\n",
        "model = LinearRegression()\n",
        "model.fit(X_train, y_train)"
      ],
      "execution_count": 192,
      "outputs": [
        {
          "output_type": "execute_result",
          "data": {
            "text/plain": [
              "LinearRegression(copy_X=True, fit_intercept=True, n_jobs=None, normalize=False)"
            ]
          },
          "metadata": {},
          "execution_count": 192
        }
      ]
    },
    {
      "cell_type": "markdown",
      "metadata": {
        "id": "mvgVytlI4UNP"
      },
      "source": [
        "### Evaluasi Model"
      ]
    },
    {
      "cell_type": "code",
      "metadata": {
        "colab": {
          "base_uri": "https://localhost:8080/"
        },
        "id": "f8oItvK7WpFD",
        "outputId": "98859c69-1059-4e26-a905-41ecb038d178"
      },
      "source": [
        "model.score(X_test, y_test)"
      ],
      "execution_count": 93,
      "outputs": [
        {
          "output_type": "execute_result",
          "data": {
            "text/plain": [
              "0.4432848040177468"
            ]
          },
          "metadata": {},
          "execution_count": 93
        }
      ]
    },
    {
      "cell_type": "code",
      "metadata": {
        "id": "eSW-7pijSnZA"
      },
      "source": [
        "y_predicted = model.predict(X_test)"
      ],
      "execution_count": 96,
      "outputs": []
    },
    {
      "cell_type": "code",
      "metadata": {
        "id": "j5SXFYH21In0",
        "colab": {
          "base_uri": "https://localhost:8080/"
        },
        "outputId": "fdf905fe-924a-4e68-ad8f-440f230cd401"
      },
      "source": [
        "from sklearn.metrics import mean_squared_error\n",
        "from sklearn.metrics import mean_absolute_error\n",
        "import math\n",
        "\n",
        "print('MAE : '+str(mean_absolute_error(y_test, y_predicted)))\n",
        "print('MSE : '+str(mean_squared_error(y_test, y_predicted)))\n",
        "print('RMSE : '+str(math.sqrt(mean_squared_error(y_test, y_predicted))))"
      ],
      "execution_count": 97,
      "outputs": [
        {
          "output_type": "stream",
          "name": "stdout",
          "text": [
            "MAE : 58588.8247686814\n",
            "MSE : 4762695853.128218\n",
            "RMSE : 69012.28769667195\n"
          ]
        }
      ]
    },
    {
      "cell_type": "markdown",
      "metadata": {
        "id": "VPt6U7PV4Ky2"
      },
      "source": [
        "### Visualisasi Model"
      ]
    },
    {
      "cell_type": "code",
      "metadata": {
        "colab": {
          "base_uri": "https://localhost:8080/",
          "height": 295
        },
        "id": "a87C5K8KUB7H",
        "outputId": "508e7613-7d3d-49f5-a29a-d30e4853841c"
      },
      "source": [
        "plt.scatter(X_train, y_train, color = \"red\")\n",
        "plt.plot(X_train, model.predict(X_train), color = \"green\")\n",
        "plt.title(\"Hasil Prediksi (Training set)\")\n",
        "plt.xlabel(\"Siswa Putus Sekolah\")\n",
        "plt.ylabel(\"Jumlah Penduduk Miskin\")\n",
        "plt.show()"
      ],
      "execution_count": 118,
      "outputs": [
        {
          "output_type": "display_data",
          "data": {
            "image/png": "[encoded data removed]",
            "text/plain": [
              "<Figure size 432x288 with 1 Axes>"
            ]
          },
          "metadata": {
            "needs_background": "light"
          }
        }
      ]
    },
    {
      "cell_type": "code",
      "metadata": {
        "colab": {
          "base_uri": "https://localhost:8080/",
          "height": 295
        },
        "id": "cMSIy0uAYEwI",
        "outputId": "75f7c14e-18ac-4592-df19-54640b097b8c"
      },
      "source": [
        "plt.scatter(X_test, y_test, color = \"red\")\n",
        "plt.plot(X_test, model.predict(X_test), color = \"green\")\n",
        "plt.title(\"Hasil Prediksi (Test set)\")\n",
        "plt.xlabel(\"Siswa Putus Sekolah\")\n",
        "plt.ylabel(\"Jumlah Penduduk Miskin\")\n",
        "plt.show()"
      ],
      "execution_count": 193,
      "outputs": [
        {
          "output_type": "display_data",
          "data": {
            "image/png": "[encoded data removed]",
            "text/plain": [
              "<Figure size 432x288 with 1 Axes>"
            ]
          },
          "metadata": {
            "needs_background": "light"
          }
        }
      ]
    },
    {
      "cell_type": "markdown",
      "metadata": {
        "id": "8GRrOhbbiUoO"
      },
      "source": [
        "## Ridge Regression dengan GridSearchCV"
      ]
    },
    {
      "cell_type": "code",
      "metadata": {
        "id": "XOiONZQPiF9u"
      },
      "source": [
        "from sklearn.linear_model import Ridge\n",
        "from sklearn.model_selection import RepeatedKFold\n",
        "from sklearn.model_selection import GridSearchCV\n",
        "\n",
        "ri = Ridge()\n",
        "cv = RepeatedKFold(n_splits=10, n_repeats=3, random_state=1)"
      ],
      "execution_count": 161,
      "outputs": []
    },
    {
      "cell_type": "code",
      "metadata": {
        "id": "7j-p58BujQY_"
      },
      "source": [
        "space = dict()\n",
        "space['solver'] = ['svd', 'cholesky', 'lsqr', 'sag']\n",
        "space['alpha'] = [1e-5, 1e-4, 1e-3, 1e-2, 1e-1, 1, 10, 100]\n",
        "space['fit_intercept'] = [True, False]\n",
        "space['normalize'] = [True, False]"
      ],
      "execution_count": 162,
      "outputs": []
    },
    {
      "cell_type": "code",
      "metadata": {
        "id": "pLoerPD2icCd"
      },
      "source": [
        "search = GridSearchCV(ri, space, scoring='neg_mean_absolute_error', n_jobs=-1, cv=cv)"
      ],
      "execution_count": 163,
      "outputs": []
    },
    {
      "cell_type": "code",
      "metadata": {
        "id": "SmnW4Y__jaB2"
      },
      "source": [
        "result = search.fit(X, y)"
      ],
      "execution_count": 169,
      "outputs": []
    },
    {
      "cell_type": "markdown",
      "metadata": {
        "id": "NFTL_2sG4ld0"
      },
      "source": [
        "### Evaluasi Model"
      ]
    },
    {
      "cell_type": "code",
      "metadata": {
        "colab": {
          "base_uri": "https://localhost:8080/"
        },
        "id": "9EXkksSOjgMs",
        "outputId": "f8af4179-084d-4617-b69c-dbef4fba21ad"
      },
      "source": [
        "print('Best Score: %s' % result.best_score_)\n",
        "print('Best Hyperparameters: %s' % result.best_params_)"
      ],
      "execution_count": 170,
      "outputs": [
        {
          "output_type": "stream",
          "name": "stdout",
          "text": [
            "Best Score: -53170.41348091585\n",
            "Best Hyperparameters: {'alpha': 0.1, 'fit_intercept': True, 'normalize': True, 'solver': 'sag'}\n"
          ]
        }
      ]
    },
    {
      "cell_type": "code",
      "metadata": {
        "colab": {
          "base_uri": "https://localhost:8080/"
        },
        "id": "OVCyAI_Xj7hg",
        "outputId": "b7c09885-9658-4975-8570-5d8e52993000"
      },
      "source": [
        "clf_best = result.best_estimator_\n",
        "clf_best.score(X_test,y_test)"
      ],
      "execution_count": 171,
      "outputs": [
        {
          "output_type": "execute_result",
          "data": {
            "text/plain": [
              "0.4553461218563493"
            ]
          },
          "metadata": {},
          "execution_count": 171
        }
      ]
    },
    {
      "cell_type": "code",
      "metadata": {
        "id": "v6V-8jB2kNVw"
      },
      "source": [
        "y_predicted = clf_best.predict(X_test)"
      ],
      "execution_count": 172,
      "outputs": []
    },
    {
      "cell_type": "code",
      "metadata": {
        "colab": {
          "base_uri": "https://localhost:8080/"
        },
        "id": "JLSugJ2PkVE1",
        "outputId": "d4fb4793-98a7-4ab7-b71f-3b058f423ba1"
      },
      "source": [
        "print('MAE : '+str(mean_absolute_error(y_test, y_predicted)))\n",
        "print('MSE : '+str(mean_squared_error(y_test, y_predicted)))\n",
        "print('RMSE : '+str(math.sqrt(mean_squared_error(y_test, y_predicted))))"
      ],
      "execution_count": 173,
      "outputs": [
        {
          "output_type": "stream",
          "name": "stdout",
          "text": [
            "MAE : 58167.21588230129\n",
            "MSE : 4659511336.399121\n",
            "RMSE : 68260.61336084756\n"
          ]
        }
      ]
    },
    {
      "cell_type": "markdown",
      "metadata": {
        "id": "LXxWpM1W4hWz"
      },
      "source": [
        "### Visualisasi Model"
      ]
    },
    {
      "cell_type": "code",
      "metadata": {
        "colab": {
          "base_uri": "https://localhost:8080/",
          "height": 295
        },
        "id": "8xDXbiVCkY9e",
        "outputId": "e73e2c43-960b-4f20-f39d-cf350f622b10"
      },
      "source": [
        "plt.scatter(X_train, y_train, color = \"red\")\n",
        "plt.plot(X_train, clf_best.predict(X_train), color = \"green\")\n",
        "plt.title(\"Hasil Prediksi (Training set)\")\n",
        "plt.xlabel(\"Siswa Putus Sekolah\")\n",
        "plt.ylabel(\"Jumlah Penduduk Miskin\")\n",
        "plt.show()"
      ],
      "execution_count": 174,
      "outputs": [
        {
          "output_type": "display_data",
          "data": {
            "image/png": "[encoded data removed]",
            "text/plain": [
              "<Figure size 432x288 with 1 Axes>"
            ]
          },
          "metadata": {
            "needs_background": "light"
          }
        }
      ]
    },
    {
      "cell_type": "code",
      "metadata": {
        "colab": {
          "base_uri": "https://localhost:8080/",
          "height": 295
        },
        "id": "c2HTNWgpkhp5",
        "outputId": "5b401971-5941-4e63-9586-e765f26a5b1a"
      },
      "source": [
        "plt.scatter(X_test, y_test, color = \"red\")\n",
        "plt.plot(X_test, clf_best.predict(X_test), color = \"green\")\n",
        "plt.title(\"Hasil Prediksi (Test set)\")\n",
        "plt.xlabel(\"Siswa Putus Sekolah\")\n",
        "plt.ylabel(\"Jumlah Penduduk Miskin\")\n",
        "plt.show()"
      ],
      "execution_count": 194,
      "outputs": [
        {
          "output_type": "display_data",
          "data": {
            "image/png": "[encoded data removed]",
            "text/plain": [
              "<Figure size 432x288 with 1 Axes>"
            ]
          },
          "metadata": {
            "needs_background": "light"
          }
        }
      ]
    },
    {
      "cell_type": "markdown",
      "metadata": {
        "id": "orjqAy60rWVy"
      },
      "source": [
        "## Lasso Regression dengan GridSearchCV"
      ]
    },
    {
      "cell_type": "code",
      "metadata": {
        "id": "nPyXfwzXrX8t"
      },
      "source": [
        "from sklearn.linear_model import Lasso\n",
        "\n",
        "l = Lasso()\n",
        "alphas = np.array([5, 0.5, 0.05, 0.005, 0.0005, 1, 0.1, 0.01, 0.001, 0.0001, 0 ])\n",
        "par = dict(alpha=alphas)"
      ],
      "execution_count": 177,
      "outputs": []
    },
    {
      "cell_type": "code",
      "metadata": {
        "id": "oayThmg7vNIP"
      },
      "source": [
        "gs = GridSearchCV(l, par, scoring='neg_mean_absolute_error', n_jobs=-1, cv=cv)"
      ],
      "execution_count": 178,
      "outputs": []
    },
    {
      "cell_type": "code",
      "metadata": {
        "id": "S7TmKJbAvmoK"
      },
      "source": [
        "l_gs = gs.fit(X, y)"
      ],
      "execution_count": 179,
      "outputs": []
    },
    {
      "cell_type": "markdown",
      "metadata": {
        "id": "ZynBuAK6406_"
      },
      "source": [
        "### Evaluasi Model"
      ]
    },
    {
      "cell_type": "code",
      "metadata": {
        "colab": {
          "base_uri": "https://localhost:8080/"
        },
        "id": "4ya0ZLqKvuxp",
        "outputId": "597df6ae-a144-42c8-e49e-1fd67b358371"
      },
      "source": [
        "print('Best Score: %s' % l_gs.best_score_)\n",
        "print('Best Hyperparameters: %s' % l_gs.best_params_)"
      ],
      "execution_count": 180,
      "outputs": [
        {
          "output_type": "stream",
          "name": "stdout",
          "text": [
            "Best Score: -53417.53405827362\n",
            "Best Hyperparameters: {'alpha': 5.0}\n"
          ]
        }
      ]
    },
    {
      "cell_type": "code",
      "metadata": {
        "colab": {
          "base_uri": "https://localhost:8080/"
        },
        "id": "VYFBkWt2v3Tq",
        "outputId": "3d06c4b9-018a-4abc-be9f-4d78201b69fe"
      },
      "source": [
        "l_gs.best_estimator_.score(X_test,y_test)"
      ],
      "execution_count": 181,
      "outputs": [
        {
          "output_type": "execute_result",
          "data": {
            "text/plain": [
              "0.47471088616411217"
            ]
          },
          "metadata": {},
          "execution_count": 181
        }
      ]
    },
    {
      "cell_type": "code",
      "metadata": {
        "id": "ZXAZ0uH1wDSj"
      },
      "source": [
        "y_predicted = l_gs.best_estimator_.predict(X_test)"
      ],
      "execution_count": 183,
      "outputs": []
    },
    {
      "cell_type": "code",
      "metadata": {
        "colab": {
          "base_uri": "https://localhost:8080/"
        },
        "id": "KEL1iRkwwTmk",
        "outputId": "7b1c3139-2358-49e4-ece8-ca8e5ab9b33b"
      },
      "source": [
        "print('MAE : '+str(mean_absolute_error(y_test, y_predicted)))\n",
        "print('MSE : '+str(mean_squared_error(y_test, y_predicted)))\n",
        "print('RMSE : '+str(math.sqrt(mean_squared_error(y_test, y_predicted))))"
      ],
      "execution_count": 184,
      "outputs": [
        {
          "output_type": "stream",
          "name": "stdout",
          "text": [
            "MAE : 57369.11098732493\n",
            "MSE : 4493845869.8715515\n",
            "RMSE : 67036.15345372638\n"
          ]
        }
      ]
    },
    {
      "cell_type": "markdown",
      "metadata": {
        "id": "J5XO0SFJ4u-K"
      },
      "source": [
        "### Visualisasi Model"
      ]
    },
    {
      "cell_type": "code",
      "metadata": {
        "colab": {
          "base_uri": "https://localhost:8080/",
          "height": 295
        },
        "id": "kAgTXCi5wYIp",
        "outputId": "deef1b6b-8c32-4192-a6e8-a2ecb70269f6"
      },
      "source": [
        "plt.scatter(X_train, y_train, color = \"red\")\n",
        "plt.plot(X_train, l_gs.best_estimator_.predict(X_train), color = \"green\")\n",
        "plt.title(\"Hasil Prediksi (Training set)\")\n",
        "plt.xlabel(\"Siswa Putus Sekolah\")\n",
        "plt.ylabel(\"Jumlah Penduduk Miskin\")\n",
        "plt.show()"
      ],
      "execution_count": 185,
      "outputs": [
        {
          "output_type": "display_data",
          "data": {
            "image/png": "[encoded data removed]",
            "text/plain": [
              "<Figure size 432x288 with 1 Axes>"
            ]
          },
          "metadata": {
            "needs_background": "light"
          }
        }
      ]
    },
    {
      "cell_type": "code",
      "metadata": {
        "colab": {
          "base_uri": "https://localhost:8080/",
          "height": 295
        },
        "id": "354LjIYTwg04",
        "outputId": "e1ceb7f8-8531-4f98-ea21-63f1e3f946a5"
      },
      "source": [
        "plt.scatter(X_test, y_test, color = \"red\")\n",
        "plt.plot(X_test, l_gs.best_estimator_.predict(X_test), color = \"green\")\n",
        "plt.title(\"Hasil Prediksi (Test set)\")\n",
        "plt.xlabel(\"Siswa Putus Sekolah\")\n",
        "plt.ylabel(\"Jumlah Penduduk Miskin\")\n",
        "plt.show()"
      ],
      "execution_count": 195,
      "outputs": [
        {
          "output_type": "display_data",
          "data": {
            "image/png": "[encoded data removed]",
            "text/plain": [
              "<Figure size 432x288 with 1 Axes>"
            ]
          },
          "metadata": {
            "needs_background": "light"
          }
        }
      ]
    },
    {
      "cell_type": "markdown",
      "metadata": {
        "id": "nnq7VRz-x7at"
      },
      "source": [
        "# Kesimpulan"
      ]
    },
    {
      "cell_type": "markdown",
      "metadata": {
        "id": "O8bajJTl1HJ_"
      },
      "source": [
        "Dari hasil EDA (Eksploratory data analysis) diketahui bahwa dari data 4 tahun bahwa jumlah siswa putus sekolah dan jumlah penduduk miskin **berkorelasi positif** dengan **nilai koefisien korelasi Pearson bernilai diantara 0,89 - 0,9** yang mana menunjukan bahwa 2 variabel tersebut sangat berpengaruh satu sama lain. Lalu dari hasi pelatihan model, didapat bahwa model Lasso regression yang sudah di fine tuning menggunakan GridSearchCV merupakan model terbaik dengan **r2 score sebesar 0,47 dan RMSE sebesar 67036.15** . Meski masih belum terlalu baik, namun model tersebut dibuat dengan data yang masih sedikit (4 tahun) sehingga model ini masih berpotensi untuk peningkatan kedepannya."
      ]
    }
  ]
}